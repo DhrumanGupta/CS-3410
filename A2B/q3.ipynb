{
 "cells": [
  {
   "cell_type": "code",
   "execution_count": 2,
   "metadata": {},
   "outputs": [
    {
     "name": "stdout",
     "output_type": "stream",
     "text": [
      "Gaussian 1:\n",
      "- Mean:           1.0832\n",
      "- Variance:       0.8114\n",
      "- Mixing weight:  0.5546\n",
      "\n",
      "Gaussian 2:\n",
      "- Mean:           4.6559\n",
      "- Variance:       0.8188\n",
      "- Mixing weight:  0.4454\n"
     ]
    }
   ],
   "source": [
    "import numpy as np\n",
    "from scipy.stats import norm\n",
    "\n",
    "def em_algorithm(data, max_iter=100, tol=1e-6):\n",
    "    X = np.asarray(data)\n",
    "    mu = np.array([X.mean() - 1, X.mean() + 1])\n",
    "    var = np.full(2, X.var())\n",
    "    pi = np.full(2, 0.5)\n",
    "\n",
    "    for _ in range(max_iter):\n",
    "        probs = np.vstack([\n",
    "            pi[k] * norm.pdf(X, mu[k], np.sqrt(var[k]))\n",
    "            for k in range(2)\n",
    "        ]).T\n",
    "        gamma = probs / probs.sum(axis=1, keepdims=True)\n",
    "\n",
    "        mu_new = (gamma * X[:, None]).sum(axis=0) / gamma.sum(axis=0)\n",
    "        var_new = (gamma * (X[:, None] - mu_new) ** 2).sum(axis=0) / gamma.sum(axis=0)\n",
    "        pi_new = gamma.mean(axis=0)\n",
    "\n",
    "        if np.allclose(mu, mu_new, atol=tol) and np.allclose(var, var_new, atol=tol):\n",
    "            mu, var, pi = mu_new, var_new, pi_new\n",
    "            break\n",
    "\n",
    "        mu, var, pi = mu_new, var_new, pi_new\n",
    "\n",
    "    return mu, var, pi\n",
    "\n",
    "if __name__ == \"__main__\":\n",
    "    data = [\n",
    "        -0.39, 0.12, 0.94, 1.67, 1.76, 2.44, 3.72, 4.28, 4.92, 5.53,\n",
    "         0.06, 0.48, 1.01, 1.68, 1.80, 3.25, 4.12, 4.60, 5.28, 6.22,\n",
    "    ]\n",
    "    means, variances, weights = em_algorithm(data)\n",
    "    print(\"Gaussian 1:\")\n",
    "    print(f\"- Mean:           {means[0]:.4f}\")\n",
    "    print(f\"- Variance:       {variances[0]:.4f}\")\n",
    "    print(f\"- Mixing weight:  {weights[0]:.4f}\\n\")\n",
    "    print(\"Gaussian 2:\")\n",
    "    print(f\"- Mean:           {means[1]:.4f}\")\n",
    "    print(f\"- Variance:       {variances[1]:.4f}\")\n",
    "    print(f\"- Mixing weight:  {weights[1]:.4f}\")\n"
   ]
  },
  {
   "cell_type": "code",
   "execution_count": null,
   "metadata": {},
   "outputs": [],
   "source": []
  }
 ],
 "metadata": {
  "kernelspec": {
   "display_name": ".venv",
   "language": "python",
   "name": "python3"
  },
  "language_info": {
   "codemirror_mode": {
    "name": "ipython",
    "version": 3
   },
   "file_extension": ".py",
   "mimetype": "text/x-python",
   "name": "python",
   "nbconvert_exporter": "python",
   "pygments_lexer": "ipython3",
   "version": "3.11.10"
  }
 },
 "nbformat": 4,
 "nbformat_minor": 2
}
